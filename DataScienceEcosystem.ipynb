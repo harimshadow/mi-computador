{
  "metadata": {
    "kernelspec": {
      "name": "python",
      "display_name": "Python (Pyodide)",
      "language": "python"
    },
    "language_info": {
      "codemirror_mode": {
        "name": "python",
        "version": 3
      },
      "file_extension": ".py",
      "mimetype": "text/x-python",
      "name": "python",
      "nbconvert_exporter": "python",
      "pygments_lexer": "ipython3",
      "version": "3.8"
    }
  },
  "nbformat_minor": 4,
  "nbformat": 4,
  "cells": [
    {
      "cell_type": "markdown",
      "source": "# Data Science - mi compuador ",
      "metadata": {}
    },
    {
      "cell_type": "markdown",
      "source": "## intoduccion \n\nEste cuaderno incluye te hace realizar diferentes ejercicios de  la materia de ciencia de datos ",
      "metadata": {}
    },
    {
      "cell_type": "markdown",
      "source": "## Estos son los lenguajes mas utilizados en la ciencia de datos \n- Python\n- R\n- SQL\n- Javascript\n- julia\n- php\n- go\n- java\n- rubi\n",
      "metadata": {
        "jp-MarkdownHeadingCollapsed": true
      }
    },
    {
      "cell_type": "markdown",
      "source": "## Estas son las librerias mas utilizadas en la ciencia de datos \n- Pandas\n- numPy\n- Matplotlib\n- Seaborn\n- Apache spark\n- Vegas\n- Keras",
      "metadata": {}
    },
    {
      "cell_type": "markdown",
      "source": "## Herramientas utilizadas en ciencia de datos\n- Anaconda \n- Jupiter notebook \n- R studio \n- Spyder\n- Zeppelin",
      "metadata": {
        "jp-MarkdownHeadingCollapsed": true
      }
    },
    {
      "cell_type": "markdown",
      "source": "## Ejemplos de ejercicios de expresiones aritmeticas ",
      "metadata": {}
    },
    {
      "cell_type": "code",
      "source": "# Esta es una simple expresión de multiplicar y luego sumar numeros enteros \n(3*4)+5\n",
      "metadata": {
        "trusted": true
      },
      "outputs": [
        {
          "execution_count": 3,
          "output_type": "execute_result",
          "data": {
            "text/plain": "17"
          },
          "metadata": {}
        }
      ],
      "execution_count": 3
    },
    {
      "cell_type": "code",
      "source": "#De esta forma convertimos 200 minutos en horas dividiendo en 60 \n200//60",
      "metadata": {
        "trusted": true,
        "tags": [],
        "editable": true,
        "slideshow": {
          "slide_type": ""
        }
      },
      "outputs": [
        {
          "execution_count": 4,
          "output_type": "execute_result",
          "data": {
            "text/plain": "3"
          },
          "metadata": {}
        }
      ],
      "execution_count": 4
    },
    {
      "cell_type": "markdown",
      "source": "\nObjetivos:\n\n- Incluir comentarios en las celdas de código\n- Crear celdas de texto en markdown\n- Incorporar listas numeradas y con viñetas en markdown\n- Dar formato a las celdas de markdown usando estilos de encabezado",
      "metadata": {}
    },
    {
      "cell_type": "markdown",
      "source": "#  mi computador fue creado \n## Harim Aid ",
      "metadata": {}
    },
    {
      "cell_type": "code",
      "source": "",
      "metadata": {
        "trusted": true
      },
      "outputs": [],
      "execution_count": null
    }
  ]
}